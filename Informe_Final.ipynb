{
  "nbformat": 4,
  "nbformat_minor": 0,
  "metadata": {
    "colab": {
      "provenance": []
    },
    "kernelspec": {
      "name": "python3",
      "display_name": "Python 3"
    },
    "language_info": {
      "name": "python"
    }
  },
  "cells": [
    {
      "cell_type": "markdown",
      "source": [
        "## **1. Introducción**\n",
        "El propósito de este informe es evaluar el desempeño de las cuatro tiendas del Sr. Juan, con el objetivo de identificar cuál de ellas debería venderse. Para ello, se evaluaron los siguientes aspectos: ingresos totales, ventas por categoría, productos más y menos vendidos, calificaciones promedio de los clientes y costos de envío promedio. Este análisis busca proporcionar una recomendación clara y objetiva, considerando las fortalezas y debilidades de cada tienda, para optimizar la rentabilidad general del negocio.\n",
        "\n",
        "\\\n",
        "## **2. Análisis de los factores clave**\n",
        "\\\n",
        "### **2.1. Ingresos totales por tienda**\n",
        "\\\n",
        "Los ingresos totales reflejan el desempeño financiero de cada tienda:\n",
        "\n",
        "<p align=\"center\">\n",
        "<img src=\"https://raw.githubusercontent.com/andrewcubillos/AluraStoreLatam/refs/heads/main/Im%C3%A1genes/Grafico%20Ingresos.jpg\" width=\"450\">\n",
        "<p>\n",
        "\n",
        "Los ingresos obtenidos por cada tienda muestran una diferencia significativa, siendo la Tienda 4 la que menos dinero genera. Aunque la diferencia no es masiva, es significativamente menor que la Tienda 3, y las demás.\n",
        "\n",
        "\n",
        "### **2.2. Categorías de productos más y menos vendidas**\n",
        "Las categorías de productos más vendidas en todas las tiendas son Muebles y Electrónicos, mientras que Instrumentos musicales y Artículos para el hogar son las menos vendidas.\n",
        "\n",
        "\n",
        "<p align=\"center\">\n",
        "<img src=\"https://raw.githubusercontent.com/andrewcubillos/AluraStoreLatam/refs/heads/main/Im%C3%A1genes/Categorias.jpg\" width=\"650\">\n",
        "<p>\n",
        "\n",
        "\n",
        "\n",
        "La Tienda 4 se comporta de forma competitiva en las categorias mas vendidas, pero muestra debilidad relativa en categorías con menor rotación como Instrumentos musicales (170) y Libros (187).\n",
        "\n",
        "### **2.2.Productos**\n",
        "El volumen de venta de productos, presenta variaciones entre las tiendas, como se detalla a continuación  \n",
        "\n",
        "- Tienda 1: Más vendidos: Microondas (60), TV LED UHD 4K (60), Armario (60);  \n",
        "menos vendidos: Pandereta (36), Olla de presión (35).\n",
        "- Tienda 2: Más vendidos: Iniciando en programación (65), Microondas (62), Batería\n",
        "(61);   \n",
        "menos vendidos: Juego de mesa (32), Mesa de comedor (34).\n",
        "- Tienda 3: Más vendidos: Kit de bancas (57), Mesa de comedor (56), Cama king\n",
        "(56);   \n",
        "menos vendidos: Bloques de construcción (35), Microondas (36).\n",
        "- Tienda 4: Más vendidos: Cama box (62), Cubertería (59), Dashboards con Power\n",
        "BI (56);  \n",
        " menos vendidos: Guitarra acústica (37), Armario (34).  \n",
        "\n",
        "La Tienda 2 destaca en sus productos líderes que superan las 60 unidades vendidas, en cuanto a la tienda Tienda 4, sus productos más vendidos apenas alcanzan cifras similares (máximo 62 unidades para Cama box).\n",
        "\n",
        "\n",
        "### **2.4. Calificaciones de los clientes**\n",
        "\n",
        "En cuanto a la satisfacción del cliente, se observa que, las tiendas 2 y 3 tienen las calificaciones más altas con un %75.6 y %75.9 de reseñas positivas respectivamente, seguidas de la Tienda 4(74.3) y la Tienda 1(73.6).\n",
        "<p align=\"center\">\n",
        "<img src=\"https://raw.githubusercontent.com/andrewcubillos/AluraStoreLatam/refs/heads/main/Im%C3%A1genes/Calificaciones%20Grafico.jpg\" width=\"500\">\n",
        "<p>\n",
        "   \n",
        "### **2.5. Costos de envío promedio**\n",
        "\n",
        "<p align=\"center\">\n",
        "<img src=\"https://raw.githubusercontent.com/andrewcubillos/AluraStoreLatam/refs/heads/main/Im%C3%A1genes/Costos%20de%20envio%20Grafico.jpg\" width=\"650\">\n",
        "<p>\n",
        "En cuanto a los costos, la Tienda 4 destaca por tener el costo de envío promedio más bajo  y la tienda 1 el mas alto.\n",
        "\n",
        "## **3. Conclusión**\n",
        "Con base en el análisis realizado, se recomienda al Sr. Juan considerar la Tienda 4 como la opción más adecuada para vender. Si bien presenta el costo de envío promedio más bajo (\\$23,459.46), lo cual podría parecer una ventaja operativa, esta no es suficiente para compensar otras debilidades. Su calificación promedio de 3.996, aunque aceptable, no es la más alta, y lo más relevante es que se trata de la tienda con los ingresos más bajos del grupo (\\$1,038,375,700), lo que refleja un menor rendimiento comercial general."
      ],
      "metadata": {
        "id": "YpMv1MGHf0pk"
      }
    },
    {
      "cell_type": "markdown",
      "source": [],
      "metadata": {
        "id": "6Cuw2N-D58CV"
      }
    }
  ]
}